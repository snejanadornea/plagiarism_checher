{
 "cells": [
  {
   "cell_type": "code",
   "execution_count": 20,
   "id": "deaaca58",
   "metadata": {},
   "outputs": [],
   "source": [
    "import numpy as np\n",
    "def cosine_similarity(vec1, vec2):\n",
    "    :param vec1: np.array\n",
    "    :param vec2: np.array\n",
    "return: float"
   ]
  },
  {
   "cell_type": "code",
   "execution_count": 41,
   "id": "b547b81a",
   "metadata": {},
   "outputs": [],
   "source": [
    "import numpy as np\n",
    "def cosine_similarity(vec1, vec2):\n",
    "    dot_product = np.dot(vec1, vec2.T)\n",
    "    norm1 = np.linalg.norm(vec1, ord=2)\n",
    "    norm2 = np.linalg.norm(vec2, ord=2)\n",
    "    return (dot_product / (norm1 * norm2))[0,0]"
   ]
  },
  {
   "cell_type": "code",
   "execution_count": 42,
   "id": "8de9c310",
   "metadata": {},
   "outputs": [],
   "source": [
    "import pickle"
   ]
  },
  {
   "cell_type": "code",
   "execution_count": 43,
   "id": "efde147b",
   "metadata": {},
   "outputs": [],
   "source": [
    "import pandas as pd\n",
    "df = pd.read_csv (\"spam.csv\", encoding=\"latin-1\")"
   ]
  },
  {
   "cell_type": "code",
   "execution_count": 44,
   "id": "96bf90fb",
   "metadata": {},
   "outputs": [],
   "source": [
    "X=df[\"v2\"].values"
   ]
  },
  {
   "cell_type": "code",
   "execution_count": 45,
   "id": "7a08869e",
   "metadata": {},
   "outputs": [],
   "source": [
    " from sklearn.feature_extraction.text import CountVectorizer"
   ]
  },
  {
   "cell_type": "code",
   "execution_count": 46,
   "id": "ad0a8375",
   "metadata": {},
   "outputs": [],
   "source": [
    "vectorizer=CountVectorizer()"
   ]
  },
  {
   "cell_type": "code",
   "execution_count": 47,
   "id": "ea03c9df",
   "metadata": {},
   "outputs": [
    {
     "data": {
      "text/plain": [
       "CountVectorizer()"
      ]
     },
     "execution_count": 47,
     "metadata": {},
     "output_type": "execute_result"
    }
   ],
   "source": [
    "vectorizer.fit(X)"
   ]
  },
  {
   "cell_type": "code",
   "execution_count": 48,
   "id": "5e48877b",
   "metadata": {},
   "outputs": [],
   "source": [
    "pickle.dump(vectorizer, open(\"vectorizer.pkl\", \"wb\"))"
   ]
  },
  {
   "cell_type": "code",
   "execution_count": 49,
   "id": "6dd9958b",
   "metadata": {},
   "outputs": [],
   "source": [
    "text1=\"I don't want to use this project anymore\""
   ]
  },
  {
   "cell_type": "code",
   "execution_count": 50,
   "id": "7c5290ed",
   "metadata": {},
   "outputs": [],
   "source": [
    "vec1=vectorizer.transform([text1]).todense()[0]"
   ]
  },
  {
   "cell_type": "code",
   "execution_count": 51,
   "id": "b2b02de3",
   "metadata": {},
   "outputs": [
    {
     "data": {
      "text/plain": [
       "matrix([[0, 0, 0, ..., 0, 0, 0]], dtype=int64)"
      ]
     },
     "execution_count": 51,
     "metadata": {},
     "output_type": "execute_result"
    }
   ],
   "source": [
    "vec1"
   ]
  },
  {
   "cell_type": "code",
   "execution_count": 52,
   "id": "55b43383",
   "metadata": {},
   "outputs": [
    {
     "data": {
      "text/plain": [
       "0.9999999999999999"
      ]
     },
     "execution_count": 52,
     "metadata": {},
     "output_type": "execute_result"
    }
   ],
   "source": [
    "cosine_similarity (vec1[0], vec1[0]) "
   ]
  },
  {
   "cell_type": "code",
   "execution_count": 53,
   "id": "51ab4ae3",
   "metadata": {},
   "outputs": [],
   "source": [
    "text2=\"I do really like cookes\""
   ]
  },
  {
   "cell_type": "code",
   "execution_count": 54,
   "id": "0fe249ac",
   "metadata": {},
   "outputs": [],
   "source": [
    "vec2=vectorizer.transform([text2]).todense()[0]"
   ]
  },
  {
   "cell_type": "code",
   "execution_count": 55,
   "id": "b2bb63dc",
   "metadata": {},
   "outputs": [
    {
     "data": {
      "text/plain": [
       "0.0"
      ]
     },
     "execution_count": 55,
     "metadata": {},
     "output_type": "execute_result"
    }
   ],
   "source": [
    "cosine_similarity (vec2[0], vec1[0]) "
   ]
  },
  {
   "cell_type": "code",
   "execution_count": null,
   "id": "921116a6",
   "metadata": {},
   "outputs": [],
   "source": []
  }
 ],
 "metadata": {
  "kernelspec": {
   "display_name": "Python 3",
   "language": "python",
   "name": "python3"
  },
  "language_info": {
   "codemirror_mode": {
    "name": "ipython",
    "version": 3
   },
   "file_extension": ".py",
   "mimetype": "text/x-python",
   "name": "python",
   "nbconvert_exporter": "python",
   "pygments_lexer": "ipython3",
   "version": "3.7.9"
  }
 },
 "nbformat": 4,
 "nbformat_minor": 5
}
